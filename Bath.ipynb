{
 "cells": [
  {
   "cell_type": "code",
   "execution_count": 1,
   "metadata": {
    "collapsed": true
   },
   "outputs": [],
   "source": [
    "from numpy import *\n",
    "from math import factorial as fact\n",
    "import numpy as np\n",
    "import copy"
   ]
  },
  {
   "cell_type": "markdown",
   "metadata": {},
   "source": [
    "Базис"
   ]
  },
  {
   "cell_type": "code",
   "execution_count": 2,
   "metadata": {
    "collapsed": false
   },
   "outputs": [],
   "source": [
    "import fermi_basis as fb"
   ]
  },
  {
   "cell_type": "markdown",
   "metadata": {},
   "source": [
    "Оператор повышения * понижения"
   ]
  },
  {
   "cell_type": "code",
   "execution_count": 3,
   "metadata": {
    "collapsed": false
   },
   "outputs": [],
   "source": [
    "def up_down(number_to_up, number_to_down, function):\n",
    "    if function[number_to_down] == 0:\n",
    "        return [0,function]\n",
    "    elif function[number_to_up] == 1:\n",
    "        return [0,function]\n",
    "    else:\n",
    "        coef_down = sqrt(function[number_to_down])\n",
    "        function[number_to_down] = function[number_to_down] - 1\n",
    "        coef_up = sqrt(function[number_to_up] + 1)\n",
    "        function[number_to_up] = function[number_to_up] + 1\n",
    "        return [round(coef_down*coef_up,5), function]\n",
    "        "
   ]
  },
  {
   "cell_type": "markdown",
   "metadata": {},
   "source": [
    "Поиск индекса функции"
   ]
  },
  {
   "cell_type": "code",
   "execution_count": 4,
   "metadata": {
    "collapsed": false
   },
   "outputs": [],
   "source": [
    "def indx(start_function, searched_function):\n",
    "    for i in range(len(start_function)):\n",
    "        g = 0\n",
    "        for j in range(start_function.size/len(start_function)):\n",
    "            if start_function[i,j] == (searched_function[j]):\n",
    "                g += 1\n",
    "                if g == start_function.shape[1]:\n",
    "                    x = i\n",
    "                    break                \n",
    "    return x"
   ]
  },
  {
   "cell_type": "markdown",
   "metadata": {},
   "source": [
    "Знак"
   ]
  },
  {
   "cell_type": "code",
   "execution_count": 5,
   "metadata": {
    "collapsed": true
   },
   "outputs": [],
   "source": [
    "def sign(k,l,func):\n",
    "    if k > 7:\n",
    "        (k,l) = (k-8,l-8)\n",
    "    if sum(func[k+1:l])%2:\n",
    "        return 1\n",
    "    else:\n",
    "        return -1"
   ]
  },
  {
   "cell_type": "markdown",
   "metadata": {},
   "source": [
    "Заполнение матрицы Гамильтона"
   ]
  },
  {
   "cell_type": "code",
   "execution_count": 6,
   "metadata": {
    "collapsed": true
   },
   "outputs": [],
   "source": [
    "import progressbar"
   ]
  },
  {
   "cell_type": "code",
   "execution_count": 55,
   "metadata": {
    "collapsed": false
   },
   "outputs": [
    {
     "name": "stderr",
     "output_type": "stream",
     "text": [
      "100% |########################################################################|\n"
     ]
    }
   ],
   "source": [
    "U = 4; V = np.array([1,2,1,2,1,2]); m = 4; n_up = 2; n_down = 2; ee = np.array([-1,0,1])\n",
    "fi = fb.basis_spin(m,n_up,n_down)\n",
    "H = zeros((len(fi),len(fi)))\n",
    "bar = progressbar.ProgressBar()\n",
    "for i in bar(range(len(fi))):\n",
    "    for j in range(1,m,1):\n",
    "        # Перескоки с ванны на узел и обратно\n",
    "        H[i,indx(fi,up_down(0,j,copy.copy(fi)[i])[1])] += V[j-1]*sign(0,j,fi[i])*up_down(0,j,copy.copy(fi)[i])[0]\n",
    "        H[i,indx(fi,up_down(m,j+m,copy.copy(fi)[i])[1])] += V[j+m-2]*sign(m,j+m,fi[i])*up_down(m,j+m,copy.copy(fi)[i])[0]\n",
    "        H[i,indx(fi,up_down(j,0,copy.copy(fi)[i])[1])] += V[j-1]*sign(0,j,fi[i])*up_down(j,0,copy.copy(fi)[i])[0]\n",
    "        H[i,indx(fi,up_down(j+m,m,copy.copy(fi)[i])[1])] += V[j+m-2]*sign(m,j+m,fi[i])*up_down(j+m,m,copy.copy(fi)[i])[0]\n",
    "        H[i,i] += ee[j-1] * (fi[i][j] + fi[i][j+m])\n",
    "        \n",
    "    # One-site interactive\n",
    "    H[i,i] += U * fi[i][0]*fi[i][m]"
   ]
  },
  {
   "cell_type": "code",
   "execution_count": 59,
   "metadata": {
    "collapsed": false
   },
   "outputs": [],
   "source": [
    "from scipy.sparse import linalg as L\n",
    "E1,V1 = L.eigs(H, k = 2, which = 'SR' )"
   ]
  },
  {
   "cell_type": "code",
   "execution_count": 9,
   "metadata": {
    "collapsed": false
   },
   "outputs": [],
   "source": [
    "import matplotlib.pyplot as plt\n",
    "%matplotlib inline"
   ]
  },
  {
   "cell_type": "code",
   "execution_count": 56,
   "metadata": {
    "collapsed": false
   },
   "outputs": [
    {
     "data": {
      "text/plain": [
       "<matplotlib.colorbar.Colorbar at 0xe0eb470>"
      ]
     },
     "execution_count": 56,
     "metadata": {},
     "output_type": "execute_result"
    },
    {
     "data": {
      "image/png": "[encoded data removed]",
      "text/plain": [
       "<matplotlib.figure.Figure at 0xed19080>"
      ]
     },
     "metadata": {},
     "output_type": "display_data"
    }
   ],
   "source": [
    "plt.figure(figsize=(10,10))\n",
    "plt.imshow(H)\n",
    "plt.colorbar()"
   ]
  },
  {
   "cell_type": "code",
   "execution_count": 47,
   "metadata": {
    "collapsed": false
   },
   "outputs": [
    {
     "name": "stdout",
     "output_type": "stream",
     "text": [
      "40.0\n",
      "40.0\n",
      "40.0\n",
      "30.0\n",
      "30.0\n",
      "30.0\n",
      "40.0\n",
      "40.0\n",
      "40.0\n",
      "30.0\n",
      "30.0\n",
      "30.0\n",
      "40.0\n",
      "40.0\n",
      "40.0\n",
      "30.0\n",
      "30.0\n",
      "30.0\n",
      "30.0\n",
      "30.0\n",
      "30.0\n",
      "20.0\n",
      "20.0\n",
      "20.0\n",
      "30.0\n",
      "30.0\n",
      "30.0\n",
      "20.0\n",
      "20.0\n",
      "20.0\n",
      "30.0\n",
      "30.0\n",
      "30.0\n",
      "20.0\n",
      "20.0\n",
      "20.0\n"
     ]
    }
   ],
   "source": [
    "for i in range(len(fi)):\n",
    "    print(H[i,i])"
   ]
  },
  {
   "cell_type": "code",
   "execution_count": 1,
   "metadata": {
    "collapsed": true
   },
   "outputs": [],
   "source": [
    "test=3"
   ]
  },
  {
   "cell_type": "code",
   "execution_count": 2,
   "metadata": {
    "collapsed": false
   },
   "outputs": [
    {
     "data": {
      "text/plain": [
       "1"
      ]
     },
     "execution_count": 2,
     "metadata": {},
     "output_type": "execute_result"
    }
   ],
   "source": [
    "test"
   ]
  },
  {
   "cell_type": "code",
   "execution_count": null,
   "metadata": {
    "collapsed": true
   },
   "outputs": [],
   "source": [
    "ss"
   ]
  }
 ],
 "metadata": {
  "anaconda-cloud": {},
  "kernelspec": {
   "display_name": "Python 2",
   "language": "python",
   "name": "python2"
  },
  "language_info": {
   "codemirror_mode": {
    "name": "ipython",
    "version": 2
   },
   "file_extension": ".py",
   "mimetype": "text/x-python",
   "name": "python",
   "nbconvert_exporter": "python",
   "pygments_lexer": "ipython2",
   "version": "2.7.12"
  }
 },
 "nbformat": 4,
 "nbformat_minor": 1
}
