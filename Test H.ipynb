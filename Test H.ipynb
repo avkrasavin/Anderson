{
 "cells": [
  {
   "cell_type": "code",
   "execution_count": 2,
   "metadata": {
    "collapsed": false
   },
   "outputs": [],
   "source": [
    "import BIG_HAMILTON as bh\n",
    "import DCA_square_loop as DCA\n",
    "U, mu, t_renorm, V_renorm, hybridization, gamma, ek, eq = DCA.get_start_parametrs(8, 0, 1, 1)"
   ]
  },
  {
   "cell_type": "code",
   "execution_count": 14,
   "metadata": {
    "collapsed": false,
    "scrolled": true
   },
   "outputs": [
    {
     "name": "stderr",
     "output_type": "stream",
     "text": [
      "100% |########################################################################|\n",
      "100% |########################################################################|\n",
      "  1% |#                                                                       |\r"
     ]
    },
    {
     "name": "stdout",
     "output_type": "stream",
     "text": [
      "Complete jumps from claster to fermi bath\n"
     ]
    },
    {
     "name": "stderr",
     "output_type": "stream",
     "text": [
      "100% |########################################################################|\n",
      "100% |########################################################################|\n",
      "  1% |                                                                        |\r"
     ]
    },
    {
     "name": "stdout",
     "output_type": "stream",
     "text": [
      "Complete jumps on the claster\n"
     ]
    },
    {
     "name": "stderr",
     "output_type": "stream",
     "text": [
      "100% |########################################################################|\n",
      "  4% |##                                                                      |\r"
     ]
    },
    {
     "name": "stdout",
     "output_type": "stream",
     "text": [
      "Complete up/down on bose bath\n"
     ]
    },
    {
     "name": "stderr",
     "output_type": "stream",
     "text": [
      "100% |########################################################################|\n",
      "100% |########################################################################|\n"
     ]
    },
    {
     "name": "stdout",
     "output_type": "stream",
     "text": [
      "Complete bose bath diag element\n"
     ]
    }
   ],
   "source": [
    "U_d = -1.5\n",
    "t_d = -1\n",
    "V_d = -0.3\n",
    "V_cd = [-3,-2,-1,-0.5]\n",
    "gamma_bd =[-6,-4,-2,-1]\n",
    "e_c = [-1,-2,-3,-4]\n",
    "e_b = [-2,-4,-6,-8]\n",
    "H = bh.Hamiltonian(U_d, t_d, V_d, V_cd, gamma_bd, e_c, e_b).matrix(4,4,4,4,4,3)"
   ]
  },
  {
   "cell_type": "code",
   "execution_count": 4,
   "metadata": {
    "collapsed": true
   },
   "outputs": [],
   "source": [
    "from scipy.sparse.linalg import eigs\n",
    "import numpy as np"
   ]
  },
  {
   "cell_type": "code",
   "execution_count": 5,
   "metadata": {
    "collapsed": false
   },
   "outputs": [
    {
     "name": "stdout",
     "output_type": "stream",
     "text": [
      "[-7.47577511+0.j -7.47577511+0.j -7.47577511+0.j -7.47577511+0.j\n",
      " -7.47577511+0.j -7.47577511+0.j -7.47577511+0.j -7.47577511+0.j\n",
      " -7.47577511+0.j -7.47577511+0.j -7.47577511+0.j -7.47577511+0.j]\n",
      "6668544\n"
     ]
    }
   ],
   "source": [
    "E,V = eigs(H, k=12, which='SR')\n",
    "print (E)\n",
    "print(len(H.nonzero()[0]))"
   ]
  },
  {
   "cell_type": "code",
   "execution_count": 7,
   "metadata": {
    "collapsed": false
   },
   "outputs": [
    {
     "name": "stdout",
     "output_type": "stream",
     "text": [
      "[-10.8+0.j -10.8+0.j -10.8+0.j -10.8+0.j -10.8+0.j -10.8+0.j -10.8+0.j\n",
      " -10.8+0.j -10.8+0.j -10.8+0.j -10.8+0.j -10.8+0.j]\n",
      "6957824\n"
     ]
    }
   ],
   "source": [
    "E,V = eigs(H, k=12, which='SR')\n",
    "print (E)\n",
    "print(len(H.nonzero()[0]))"
   ]
  },
  {
   "cell_type": "code",
   "execution_count": 9,
   "metadata": {
    "collapsed": false
   },
   "outputs": [
    {
     "name": "stdout",
     "output_type": "stream",
     "text": [
      "[-70.80000000+0.j -70.10000000+0.j -70.10000000+0.j -70.10000000+0.j\n",
      " -70.10000000+0.j -70.10000000+0.j -70.00895876+0.j -70.10000000+0.j\n",
      " -70.00895876+0.j -70.10000000+0.j -70.10000000+0.j -70.00895876+0.j]\n",
      "8207324\n"
     ]
    }
   ],
   "source": [
    "E,V = eigs(H, k=12, which='SR')\n",
    "print (E)\n",
    "print(len(H.nonzero()[0]))"
   ]
  },
  {
   "cell_type": "code",
   "execution_count": 11,
   "metadata": {
    "collapsed": false
   },
   "outputs": [
    {
     "name": "stdout",
     "output_type": "stream",
     "text": [
      "[-82.60895876+0.j -81.60895876+0.j -81.60895876+0.j -80.78158853+0.j\n",
      " -80.63446386+0.j -81.00000000+0.j -80.98806130+0.j -81.00000000+0.j\n",
      " -80.98806130+0.j -81.29969149+0.j -81.29969149+0.j -81.29969149+0.j]\n",
      "8238300\n"
     ]
    }
   ],
   "source": [
    "E,V = eigs(H, k=12, which='SR')\n",
    "print (E)\n",
    "print(len(H.nonzero()[0]))"
   ]
  },
  {
   "cell_type": "code",
   "execution_count": 13,
   "metadata": {
    "collapsed": false
   },
   "outputs": [
    {
     "name": "stdout",
     "output_type": "stream",
     "text": [
      "[-94.54668906+0.j -94.22715927+0.j -93.90879079+0.j -93.86508427+0.j\n",
      " -93.65891345+0.j -93.50937877+0.j -93.46809510+0.j -93.13252412+0.j\n",
      " -93.09602579+0.j -93.12043809+0.j -93.09545271+0.j -92.78494881+0.j]\n",
      "31175900\n"
     ]
    }
   ],
   "source": [
    "E,V = eigs(H, k=12, which='SR')\n",
    "print (E)\n",
    "print(len(H.nonzero()[0]))"
   ]
  },
  {
   "cell_type": "code",
   "execution_count": 15,
   "metadata": {
    "collapsed": false
   },
   "outputs": [
    {
     "name": "stdout",
     "output_type": "stream",
     "text": [
      "[-298.62071370+0.j -279.07491215+0.j -271.76115274+0.j -271.76297361+0.j\n",
      " -270.70076003+0.j -270.69815462+0.j -269.76190093+0.j -269.76372467+0.j\n",
      " -269.62353773+0.j -269.61993634+0.j -269.49122658+0.j -269.48907526+0.j]\n",
      "38700764\n"
     ]
    }
   ],
   "source": [
    "E,V = eigs(H, k=12, which='SR')\n",
    "print (E)\n",
    "print(len(H.nonzero()[0]))"
   ]
  },
  {
   "cell_type": "code",
   "execution_count": null,
   "metadata": {
    "collapsed": true
   },
   "outputs": [],
   "source": []
  }
 ],
 "metadata": {
  "kernelspec": {
   "display_name": "Python 2",
   "language": "python",
   "name": "python2"
  },
  "language_info": {
   "codemirror_mode": {
    "name": "ipython",
    "version": 2
   },
   "file_extension": ".py",
   "mimetype": "text/x-python",
   "name": "python",
   "nbconvert_exporter": "python",
   "pygments_lexer": "ipython2",
   "version": "2.7.13"
  }
 },
 "nbformat": 4,
 "nbformat_minor": 2
}
