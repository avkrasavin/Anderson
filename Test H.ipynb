{
 "cells": [
  {
   "cell_type": "code",
   "execution_count": 53,
   "metadata": {
    "collapsed": false
   },
   "outputs": [],
   "source": [
    "import BIG_HAMILTON as bh\n",
    "import DCA_square_loop as DCA"
   ]
  },
  {
   "cell_type": "code",
   "execution_count": 54,
   "metadata": {
    "collapsed": true
   },
   "outputs": [],
   "source": [
    "from scipy.sparse.linalg import eigs"
   ]
  },
  {
   "cell_type": "code",
   "execution_count": 66,
   "metadata": {
    "collapsed": false
   },
   "outputs": [],
   "source": [
    "U = -1.5\n",
    "t = -1\n",
    "V = -0.3\n",
    "h = [-3,-2,-1,-0.5] \n",
    "gamma = [-6,-4,-2,-1]\n",
    "ek = [-1, -2 ,-3 ,-4]\n",
    "eq = [-2,-4,-6,-8]"
   ]
  },
  {
   "cell_type": "code",
   "execution_count": 67,
   "metadata": {
    "collapsed": false,
    "scrolled": true
   },
   "outputs": [
    {
     "name": "stderr",
     "output_type": "stream",
     "text": [
      "100% (70 of 70) |#########################| Elapsed Time: 0:00:04 Time: 0:00:04\n",
      "100% (70 of 70) |#########################| Elapsed Time: 0:00:02 Time: 0:00:02\n",
      "  1% ( 1 of 70) |                         | Elapsed Time: 0:00:00 ETA:  0:00:00"
     ]
    },
    {
     "name": "stdout",
     "output_type": "stream",
     "text": [
      "Complete jumps from claster to fermi bath\n"
     ]
    },
    {
     "name": "stderr",
     "output_type": "stream",
     "text": [
      "100% (70 of 70) |#########################| Elapsed Time: 0:00:01 Time: 0:00:01\n",
      "100% (70 of 70) |#########################| Elapsed Time: 0:00:00 Time: 0:00:00\n"
     ]
    },
    {
     "name": "stdout",
     "output_type": "stream",
     "text": [
      "Complete jumps on the claster\n"
     ]
    },
    {
     "name": "stderr",
     "output_type": "stream",
     "text": [
      "100% (256 of 256) |#######################| Elapsed Time: 0:00:02 Time: 0:00:02\n",
      "  1% (63 of 4900) |                       | Elapsed Time: 0:00:00 ETA:  0:00:00"
     ]
    },
    {
     "name": "stdout",
     "output_type": "stream",
     "text": [
      "Complete up/down on bose bath\n"
     ]
    },
    {
     "name": "stderr",
     "output_type": "stream",
     "text": [
      "100% (4900 of 4900) |#####################| Elapsed Time: 0:00:00 Time: 0:00:00\n",
      "100% (256 of 256) |#######################| Elapsed Time: 0:00:00 Time: 0:00:00\n"
     ]
    },
    {
     "name": "stdout",
     "output_type": "stream",
     "text": [
      "Complete bose bath diag element\n"
     ]
    }
   ],
   "source": [
    "H = bh.Hamiltonian(U,t,V,h,gamma,ek,eq).matrix(4,4,4,4,4,3)"
   ]
  },
  {
   "cell_type": "code",
   "execution_count": 57,
   "metadata": {
    "collapsed": false
   },
   "outputs": [],
   "source": [
    "import matplotlib.pyplot as plt\n",
    "%matplotlib inline"
   ]
  },
  {
   "cell_type": "code",
   "execution_count": 68,
   "metadata": {
    "collapsed": false
   },
   "outputs": [],
   "source": [
    "E,V=eigs(H,k=12,which='SR')"
   ]
  },
  {
   "cell_type": "code",
   "execution_count": 69,
   "metadata": {
    "collapsed": false
   },
   "outputs": [
    {
     "data": {
      "text/plain": [
       "array([-298.46967498+0.j, -278.90890983+0.j, -271.82741363+0.j,\n",
       "       -271.82757273+0.j, -270.78500843+0.j, -270.78543240+0.j,\n",
       "       -269.82061430+0.j, -269.82087416+0.j, -269.63187798+0.j,\n",
       "       -269.63072357+0.j, -269.82087416+0.j, -269.82061430+0.j])"
      ]
     },
     "execution_count": 69,
     "metadata": {},
     "output_type": "execute_result"
    }
   ],
   "source": [
    "E"
   ]
  },
  {
   "cell_type": "code",
   "execution_count": null,
   "metadata": {
    "collapsed": true
   },
   "outputs": [],
   "source": []
  }
 ],
 "metadata": {
  "anaconda-cloud": {},
  "kernelspec": {
   "display_name": "Python [Root]",
   "language": "python",
   "name": "Python [Root]"
  },
  "language_info": {
   "codemirror_mode": {
    "name": "ipython",
    "version": 2
   },
   "file_extension": ".py",
   "mimetype": "text/x-python",
   "name": "python",
   "nbconvert_exporter": "python",
   "pygments_lexer": "ipython2",
   "version": "2.7.12"
  }
 },
 "nbformat": 4,
 "nbformat_minor": 2
}
