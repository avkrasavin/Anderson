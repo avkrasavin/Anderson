{
 "cells": [
  {
   "cell_type": "code",
   "execution_count": 1,
   "metadata": {
    "collapsed": false
   },
   "outputs": [],
   "source": [
    "import numpy as np\n",
    "from scipy.sparse import lil_matrix\n",
    "import matplotlib.pyplot as plt\n",
    "from math import factorial as fact\n",
    "import itertools\n",
    "import progressbar\n",
    "import copy\n",
    "%matplotlib inline\n",
    "\n",
    "class Basis:\n",
    "    \n",
    "    def bose(self,m,n):\n",
    "        '''Возвращает базис для Бозе-статистики. m - число узлов, n - число частиц'''\n",
    "        R = fact(n + m - 1)/fact(n)/fact(m - 1)\n",
    "        b = np.zeros((R,m))\n",
    "        b[0,m-1] = n\n",
    "        for i in range(R-1):\n",
    "            j = m - 1\n",
    "            while j > 0:\n",
    "                if b[i,j] in range(2,n+1) :\n",
    "                    b[i+1,:] = b[i,:]\n",
    "                    b[i+1,j] = 0\n",
    "                    b[i+1,j-1] = b[i+1,j-1] + 1\n",
    "                    b[i+1,m-1] = b[i,j] - 1\n",
    "                    break\n",
    "                elif b[i,j] > 0:\n",
    "                    b[i+1,:] = b[i,:]\n",
    "                    b[i+1,j-1] = b[i+1,j-1] + 1\n",
    "                    b[i+1,j] = b[i,j] - 1\n",
    "                    break\n",
    "                j -= 1\n",
    "        return b\n",
    "   \n",
    "    def limit_basis(self,m,n,n_max):\n",
    "        '''Возвращает базис для Бозе-статистики с ограничением числа частиц на узле. \n",
    "        m - число узлов, n - число частиц, n_max - максимальное число частиц на узле.'''\n",
    "        # Размерность базиса\n",
    "        R = fact(n + m - 1)/fact(n)/fact(m - 1)\n",
    "        b = self.bose(m,n)\n",
    "        f = np.zeros((R,m))\n",
    "        j = 0\n",
    "        # Откиддываем функции, в которых на узлах частиц больше n_max\n",
    "        for i in range(b.shape[0]):\n",
    "            if any(b[i] > n_max): \n",
    "                continue\n",
    "            else:\n",
    "                f[j] = b[i]\n",
    "                j += 1\n",
    "        return f[:j]\n",
    "\n",
    "    def bose_unsave(self, m, n):\n",
    "        '''Возвращает базис для Бозе статистики с несохраняющимся числом частиц.\n",
    "        m - число узлов, n - максимальное число частиц на узле\n",
    "        '''\n",
    "        return np.array( map(list, itertools.product(range(n+1),repeat=m)) )\n",
    "    \n",
    "    def fermi(self, m, n_up, n_down):\n",
    "        '''Возвращает базис для Ферми-статистики с учетом спина.'''\n",
    "        R = (fact(m)/fact(n_up)/fact(m-n_up))*(fact(m)/fact(n_down)/fact(m-n_down)) \n",
    "        fs = np.zeros((R,2*m))\n",
    "        part_1 = self.limit_basis(m,n_up,1)\n",
    "        if n_up == n_down:\n",
    "            part_2 = copy.copy(part_1)\n",
    "        else:\n",
    "            part_2 = self.limit_basis(m,n_down,1)\n",
    "        size_1, size_2 = part_1.shape[0], part_2.shape[0]\n",
    "        for i in range(size_1):\n",
    "            for j in range(size_2):\n",
    "                fs[i*size_2+j] = np.concatenate((part_1[i],part_2[j]), axis=0)\n",
    "        return fs\n",
    "    def full_basis(self,m_d, m_c, m_b, n_d_up, n_d_down, n_c_up, n_c_down, n_max):\n",
    "        '''m_d - число узлов в кластере, m_c - число узлов в Ферми ванне, m_b - число узлов в Бозе ванне,\n",
    "        n_d_up - число частиц со спином вверх в кластере, n_d_down - число частиц со спином вниз в кластере, \n",
    "        n_c_up - число частиц со спином вверх в Ферми ванне, n_c_down - число частиц со спином вниз в Ферми ванне,\n",
    "        n_max - максимум частиц на узле в Бозе ванне\n",
    "        '''\n",
    "        mtx_1 = self.fermi(m_d+m_c, n_d_up+n_c_up,n_d_down+n_c_down)\n",
    "        mtx_2 = self.bose_unsave(m_b,n_max)\n",
    "        size_1, size_2 = mtx_1.shape[0], mtx_2.shape[0]\n",
    "        fb = np.zeros((size_1*size_2,mtx_1.shape[1]+m_b))\n",
    "        for i in range(size_1):\n",
    "            for j in range(size_2):\n",
    "                fb[i*size_2+j] = np.concatenate((mtx_1[i],mtx_2[j]), axis=0)\n",
    "        return fb"
   ]
  },
  {
   "cell_type": "code",
   "execution_count": 2,
   "metadata": {
    "collapsed": false
   },
   "outputs": [],
   "source": [
    "class Hamiltonian(Basis):\n",
    "    #def __init__(self,m_d, m_c, m_b, n_d_up, n_d_down, n_c_up, n_c_down, n_max, e_c, V_cd, U_d, e_b, gamma_bd, t_d, V_d):\n",
    "        #self.m_d, self.m_c, self.m_b = m_d, m_c, m_b\n",
    "        #self.n_d_up, self.n_d_down, self.n_c_up, self.n_c_down, self.n_max = n_d_up, n_d_down, n_c_up, n_c_down, n_max\n",
    "    def __init__(self,e_c, V_cd, U_d, e_b, gamma_bd, t_d, V_d):\n",
    "        self.e_c = e_c\n",
    "        self.V_cd = V_cd\n",
    "        self.U_d = U_d\n",
    "        self.e_b = e_b\n",
    "        self.gamma_bd = gamma_bd\n",
    "        self.t_d = t_d\n",
    "        self.V_d = V_d\n",
    "    # Опертор рождения * уничтожения\n",
    "    def up_down(self, number_to_up, number_to_down, func): \n",
    "        '''Функция возвращает коэффициент и новую функцию'''\n",
    "        function = copy.copy(func)\n",
    "        if function[number_to_down] == 0:\n",
    "            return [0,function]\n",
    "        elif function[number_to_up] == 1:\n",
    "            return [0,function]\n",
    "        else:\n",
    "            coef_down = np.sqrt(function[number_to_down])\n",
    "            function[number_to_down] = function[number_to_down] - 1\n",
    "            coef_up = np.sqrt(function[number_to_up] + 1)\n",
    "            function[number_to_up] = function[number_to_up] + 1\n",
    "            return [round(coef_down*coef_up,5), function]\n",
    "\n",
    "    # Знак \n",
    "    def sign(self, left_edge,right_edge,func):\n",
    "        '''Функция определяет знак перескока'''\n",
    "        left_edge,right_edge = min(left_edge,right_edge), max(left_edge,right_edge)\n",
    "        if sum(func[left_edge+1:right_edge])%2:\n",
    "            return 1\n",
    "        else:\n",
    "            return -1\n",
    "    # Операторы рождения и уничтожения для бозе-ванны \n",
    "    def up(self,number_to_up,n_max,func):\n",
    "        function = copy.copy(func)\n",
    "        if function[number_to_up] == n_max:\n",
    "            return [0,function]\n",
    "        else:\n",
    "            coef_up = np.sqrt(function[number_to_up] + 1)\n",
    "            function[number_to_up] = function[number_to_up] + 1\n",
    "            return [round(coef_up,5), function]\n",
    "\n",
    "    def down(self,number_to_down, func):\n",
    "        function = copy.copy(func)\n",
    "        if function[number_to_down] == 0:\n",
    "            return [0,function]\n",
    "        else:\n",
    "            coef_down = np.sqrt(function[number_to_down])\n",
    "            function[number_to_down] = function[number_to_down] - 1\n",
    "            return [round(coef_down,5), function]\n",
    "            \n",
    "    def matrix(self,m_d, m_c, m_b, n_d_up, n_d_down, n_c_up, n_c_down, n_max):   \n",
    "        bar = progressbar.ProgressBar()\n",
    "        basis = self.full_basis(m_d, m_c, m_b, n_d_up, n_d_down, n_c_up, n_c_down, n_max)\n",
    "        R = basis.shape\n",
    "        # Задаем соседей\n",
    "        neigbors_d = {4:[5,6], 5:[4,7], 6:[4,7], 7:[5,6]}\n",
    "        # создаем матрицу\n",
    "        H = lil_matrix((R[0],R[0]))\n",
    "        \n",
    "        # Создаем словарь собственных функций\n",
    "        basis = basis.astype(int)\n",
    "    \n",
    "        key = [''.join(map(str,basis[i])) for i in range(R[0])]\n",
    "        value = range(len(key))\n",
    "        indexes = dict(zip(key,value))\n",
    "\n",
    "        \n",
    "        for i in bar(range(R[0])):\n",
    "            # Диагональные элементы\n",
    "            H[i,i] += sum(self.e_c[:m_c]*basis[i,0:m_c] + self.e_c[m_c:]*basis[i,(m_d+m_c):(m_d+2*m_c)]) + self.U_d*sum(basis[i,m_c:(m_d+m_c)]*basis[i,(m_d+2*m_c):2*(m_d+m_c)]) + sum(self.e_b*basis[i,-m_b:])\n",
    "            for j in neigbors_d.keys():\n",
    "                for k in neigbors_d[j]:\n",
    "                    H[i,i] += V_d*(basis[i,j]+basis[i,j+m_c])*(basis[i,k]+basis[i,k+m_c])\n",
    "            # Остальное\n",
    "            iks = 0 # индекс перескока с ферми-ванны на узел и наоборот\n",
    "            iq = 0 # индекс для бозонов\n",
    "            for j in range(m_c,m_c+m_d): # узлы кластера\n",
    "                for p in range(m_c): # узлы ферми-ванны\n",
    "                    # перескок с ванны на кластер\n",
    "                    H[i,indexes[''.join(map(str,self.up_down(j,p,basis[i])[1]))]] += V_cd[iks]*self.sign(p,j,basis[i])*self.up_down(j,p,basis[i])[0]\n",
    "                    H[i,indexes[''.join(map(str,self.up_down(m_c+m_d+j,p+m_c+m_d,basis[i])[1]))]] += V_cd[iks+2*(m_c+m_d)]*self.sign(m_c+m_d+p,j+m_c+m_d,basis[i])*self.up_down(m_c+m_d+j,p+m_c+m_d,basis[i])[0]\n",
    "                    # перескок с кластера на ванну\n",
    "                    H[i,indexes[''.join(map(str,self.up_down(p,j,basis[i])[1]))]] += V_cd[iks]*self.sign(p,j,basis[i])*self.up_down(p,j,basis[i])[0]\n",
    "                    H[i,indexes[''.join(map(str,self.up_down(p+m_c+m_d,m_c+m_d+j,basis[i])[1]))]] += V_cd[iks+2*(m_c+m_d)]*self.sign(m_c+m_d+p,j+m_c+m_d,basis[i])*self.up_down(p+m_c+m_d,m_c+m_d+j,basis[i])[0]\n",
    "                    iks += 1\n",
    "                # рождение/уничтожение бозонов на фоне частиц на кластере\n",
    "                number_particle = basis[i,j] + basis[i,j+m_c+m_d]\n",
    "                for q in range(2*(m_c+m_d),2*(m_c+m_d)+m_b):\n",
    "                    H[i,indexes[''.join(map(str,self.up(q,n_max,basis[i])[1]))]] += gamma_bd[iq]*self.up(q,n_max,basis[i])[0]*number_particle\n",
    "                    H[i,indexes[''.join(map(str,self.down(q,basis[i])[1]))]] += gamma_bd[iq]*self.down(q,basis[i])[0]*number_particle\n",
    "                    iq += 1\n",
    "                for f in neigbors_d[j]:\n",
    "                    H[i,indexes[''.join(map(str,self.up_down(j,f,basis[i])[1]))]] += t_d*self.sign(j,f,basis[i])*self.up_down(j,f,basis[i])[0]\n",
    "                    H[i,indexes[''.join(map(str,self.up_down(j+m_c+m_d,f+m_c+m_d,basis[i])[1]))]] += t_d*self.sign(j+m_c+m_d,f+m_c+m_d,basis[i])*self.up_down(j+m_c+m_d,f+m_c+m_d,basis[i])[0]\n",
    "        return H"
   ]
  },
  {
   "cell_type": "code",
   "execution_count": 4,
   "metadata": {
    "collapsed": true
   },
   "outputs": [],
   "source": [
    "e_c = np.array([1,2,3,4]*2)\n",
    "V_cd = np.array([1]*32)\n",
    "U_d = 2\n",
    "e_b = np.array([4,3,2,1])\n",
    "gamma_bd = np.array([1.5]*16)\n",
    "t_d = 1\n",
    "V_d = 0.5"
   ]
  },
  {
   "cell_type": "code",
   "execution_count": 6,
   "metadata": {
    "collapsed": false,
    "scrolled": true
   },
   "outputs": [
    {
     "name": "stderr",
     "output_type": "stream",
     "text": [
      "100% |########################################################################|\n"
     ]
    }
   ],
   "source": [
    "f = Hamiltonian(np.array([1,2,3,4]*2),np.array([1]*32),2,np.array([4,3,2,1]),np.array([1.5]*16),1,0.5).matrix(4,4,4,2,2,2,2,3)"
   ]
  },
  {
   "cell_type": "code",
   "execution_count": 7,
   "metadata": {
    "collapsed": false,
    "scrolled": true
   },
   "outputs": [
    {
     "data": {
      "text/plain": [
       "(1254400, 1254400)"
      ]
     },
     "execution_count": 7,
     "metadata": {},
     "output_type": "execute_result"
    }
   ],
   "source": [
    "f.shape"
   ]
  },
  {
   "cell_type": "code",
   "execution_count": 9,
   "metadata": {
    "collapsed": false
   },
   "outputs": [],
   "source": [
    "M = f.tocoo()\n",
    "H = np.column_stack((M.row,M.col,M.data))\n",
    "np.savetxt('text_H.csv',H,delimiter=',')"
   ]
  },
  {
   "cell_type": "code",
   "execution_count": 3,
   "metadata": {
    "collapsed": true
   },
   "outputs": [],
   "source": [
    "import pandas as pd\n",
    "data = pd.read_csv('text_H.csv',delimiter=',',header=None)\n",
    "row = data[0].tolist()\n",
    "col = data[1].tolist()\n",
    "val = data[2].tolist()"
   ]
  },
  {
   "cell_type": "code",
   "execution_count": 5,
   "metadata": {
    "collapsed": true
   },
   "outputs": [],
   "source": [
    "import scipy.sparse as ss\n",
    "H = ss.coo_matrix((val, (row, col)), shape=(1254400, 1254400))"
   ]
  },
  {
   "cell_type": "code",
   "execution_count": 13,
   "metadata": {
    "collapsed": false
   },
   "outputs": [],
   "source": [
    "from scipy.sparse.linalg import eigs\n",
    "[E,V] = eigs(H,k=10)"
   ]
  },
  {
   "cell_type": "code",
   "execution_count": 15,
   "metadata": {
    "collapsed": false
   },
   "outputs": [
    {
     "data": {
      "text/plain": [
       "array([ 146.66069784+0.j,  137.05865194+0.j,  136.64448267+0.j,\n",
       "        136.64116845+0.j,  136.00737210+0.j,  135.55984049+0.j,\n",
       "        135.56345538+0.j,  134.64347626+0.j,  134.94971757+0.j,\n",
       "        134.52362328+0.j])"
      ]
     },
     "execution_count": 15,
     "metadata": {},
     "output_type": "execute_result"
    }
   ],
   "source": [
    "E"
   ]
  }
 ],
 "metadata": {
  "kernelspec": {
   "display_name": "Python 2",
   "language": "python",
   "name": "python2"
  },
  "language_info": {
   "codemirror_mode": {
    "name": "ipython",
    "version": 2
   },
   "file_extension": ".py",
   "mimetype": "text/x-python",
   "name": "python",
   "nbconvert_exporter": "python",
   "pygments_lexer": "ipython2",
   "version": "2.7.13"
  }
 },
 "nbformat": 4,
 "nbformat_minor": 2
}
